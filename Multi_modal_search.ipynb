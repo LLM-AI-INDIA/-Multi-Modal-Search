{
 "cells": [
  {
   "cell_type": "markdown",
   "metadata": {
    "id": "lecJLkKB_dKz"
   },
   "source": [
    "[![Open In Colab](https://colab.research.google.com/assets/colab-badge.svg)](https://colab.research.google.com/drive/1QsmCrSZVkvxUkv6keRbrqW2elqmlRX02?usp=sharing)\n"
   ]
  },
  {
   "cell_type": "code",
   "execution_count": null,
   "metadata": {
    "id": "WygJ6Ubs7pMX"
   },
   "outputs": [],
   "source": [
    "\n",
    "\n",
    "# Clone the repository\n",
    "!git clone https://github.com/LLM-AI-INDIA/-Multi-Modal-Search.git\n",
    "\n",
    "%cd Multi-Modal-Search\n",
    "# Install dependencies from requirements.txt\n",
    "!pip install -r requirements.txt\n",
    "\n",
    "print(\"----------------------------------------------------------------------\\n\")\n",
    "\n",
    "! wget -q -O - ipv4.icanhazip.com\n",
    "\n",
    "\n",
    "! streamlit run app.py & npx localtunnel --port 8501"
   ]
  }
 ],
 "metadata": {
  "colab": {
   "provenance": []
  },
  "kernelspec": {
   "display_name": "Python 3",
   "name": "python3"
  },
  "language_info": {
   "name": "python"
  }
 },
 "nbformat": 4,
 "nbformat_minor": 0
}
